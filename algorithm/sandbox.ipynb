{
 "cells": [
  {
   "cell_type": "code",
   "execution_count": 97,
   "metadata": {},
   "outputs": [],
   "source": [
    "from scipy.sparse import csr_matrix, lil_matrix\n",
    "from scipy.io import mmread\n",
    "import numpy as np\n",
    "import pandas as pd\n",
    "import utils\n",
    "import scores\n",
    "from math import pi, floor, ceil\n",
    "from random import randint\n",
    "from contai"
   ]
  },
  {
   "cell_type": "code",
   "execution_count": 4,
   "metadata": {
    "collapsed": true
   },
   "outputs": [],
   "source": [
    "data, adjacency, edges = utils.loadData(\"small\")"
   ]
  },
  {
   "cell_type": "code",
   "execution_count": 5,
   "metadata": {
    "collapsed": true
   },
   "outputs": [],
   "source": [
    "solution = data[\"assignment\"]"
   ]
  },
  {
   "cell_type": "code",
   "execution_count": 4,
   "metadata": {
    "collapsed": true
   },
   "outputs": [],
   "source": [
    "solution_perimeter = scores.perimeter(data, adjacency, edges, solution)"
   ]
  },
  {
   "cell_type": "code",
   "execution_count": 8,
   "metadata": {
    "collapsed": true
   },
   "outputs": [],
   "source": [
    "area = data[\"area\"].groupby(solution).sum()"
   ]
  },
  {
   "cell_type": "code",
   "execution_count": 10,
   "metadata": {},
   "outputs": [
    {
     "data": {
      "text/plain": [
       "assignment\n",
       "1    0.268645\n",
       "2    0.248994\n",
       "3    0.231095\n",
       "dtype: float64"
      ]
     },
     "execution_count": 10,
     "metadata": {},
     "output_type": "execute_result"
    }
   ],
   "source": [
    "4*pi*area/(solution_perimeter**2)"
   ]
  },
  {
   "cell_type": "code",
   "execution_count": 9,
   "metadata": {},
   "outputs": [
    {
     "data": {
      "text/plain": [
       "assignment\n",
       "1    519.024053\n",
       "2    713.145716\n",
       "3    809.003866\n",
       "dtype: float64"
      ]
     },
     "execution_count": 9,
     "metadata": {},
     "output_type": "execute_result"
    }
   ],
   "source": [
    "area/solution_perimeter"
   ]
  },
  {
   "cell_type": "code",
   "execution_count": 18,
   "metadata": {},
   "outputs": [
    {
     "data": {
      "text/plain": [
       "array([1, 2, 3])"
      ]
     },
     "execution_count": 18,
     "metadata": {},
     "output_type": "execute_result"
    }
   ],
   "source": [
    "np.unique(solution)"
   ]
  },
  {
   "cell_type": "code",
   "execution_count": 20,
   "metadata": {},
   "outputs": [
    {
     "data": {
      "text/plain": [
       "1    0.0\n",
       "2    0.0\n",
       "3    0.0\n",
       "dtype: float64"
      ]
     },
     "execution_count": 20,
     "metadata": {},
     "output_type": "execute_result"
    }
   ],
   "source": [
    "pd.Series(np.zeros(len(np.unique(solution))), index=np.unique(solution))"
   ]
  },
  {
   "cell_type": "code",
   "execution_count": 13,
   "metadata": {},
   "outputs": [
    {
     "data": {
      "text/plain": [
       "assignment\n",
       "1    1.260104e+07\n",
       "2    2.566717e+07\n",
       "3    3.558940e+07\n",
       "Name: area, dtype: float64"
      ]
     },
     "execution_count": 13,
     "metadata": {},
     "output_type": "execute_result"
    }
   ],
   "source": [
    "area"
   ]
  },
  {
   "cell_type": "markdown",
   "metadata": {
    "collapsed": true
   },
   "source": [
    "# Initializer"
   ]
  },
  {
   "cell_type": "code",
   "execution_count": 100,
   "metadata": {
    "collapsed": true
   },
   "outputs": [],
   "source": [
    "data, adjacency, edges = utils.loadData(\"small\")"
   ]
  },
  {
   "cell_type": "code",
   "execution_count": 167,
   "metadata": {
    "collapsed": true
   },
   "outputs": [],
   "source": [
    "# How many total units to assign\n",
    "n = data.shape[0]\n",
    "# How many districts to build\n",
    "k = 3\n",
    "# Solution array (initially nothing is assigned)\n",
    "sol = np.zeros(n, dtype=\"int32\")\n",
    "# Select k seed zones as starting elements\n",
    "seeds = data[data[\"outer_edge\"] > 0].sample(k).index.values\n",
    "\n",
    "# Set assignment for each of the seeds\n",
    "for i, v in enumerate(seeds):\n",
    "    sol[v] = i+1"
   ]
  },
  {
   "cell_type": "code",
   "execution_count": 168,
   "metadata": {
    "collapsed": true
   },
   "outputs": [],
   "source": [
    "pool = seeds.tolist()"
   ]
  },
  {
   "cell_type": "code",
   "execution_count": 169,
   "metadata": {
    "collapsed": true
   },
   "outputs": [],
   "source": [
    "# While there are still elements in pool\n",
    "while pool:\n",
    "    # Select an index available in pool\n",
    "    i = randint(0, len(pool)-1)\n",
    "    # Pop that item out\n",
    "    u = pool.pop(i)\n",
    "    # Get list of zones adjacent to u\n",
    "    for v in adjacency.rows[u]:\n",
    "        if sol[v] == 0 and v not in pool:\n",
    "            pool.append(v)\n",
    "            sol[v] = sol[u]"
   ]
  },
  {
   "cell_type": "code",
   "execution_count": 170,
   "metadata": {},
   "outputs": [
    {
     "name": "stdout",
     "output_type": "stream",
     "text": [
      "3, 3, 2, 1, 2, 2, 2, 2, 1, 3, 3, 1\n"
     ]
    }
   ],
   "source": [
    "print(\", \".join(map(str,sol)))"
   ]
  },
  {
   "cell_type": "code",
   "execution_count": 109,
   "metadata": {},
   "outputs": [
    {
     "data": {
      "text/plain": [
       "array([5, 6])"
      ]
     },
     "execution_count": 109,
     "metadata": {},
     "output_type": "execute_result"
    }
   ],
   "source": [
    "np.nonzero(sol == 3)[0]"
   ]
  },
  {
   "cell_type": "markdown",
   "metadata": {
    "collapsed": true
   },
   "source": [
    "# Mutation\n",
    "\n",
    "## Shift\n",
    "\n",
    "\"Shift moves a number of units from one district to a neighboring district. To ensure that a shift does not violate contiguity, the selected units include at least one unit on the boundary of the sending and receiving district.\" (PEAR Algorithm 3)"
   ]
  },
  {
   "cell_type": "code",
   "execution_count": 269,
   "metadata": {
    "collapsed": true
   },
   "outputs": [],
   "source": [
    "# subzone is a list of units that are all contiguous\n",
    "# returns a list of units that are adjacent to subzone\n",
    "# TODO: make sure they are in the right zone\n",
    "def subzone_neighbors(ind, subzone, zid):\n",
    "    neighbors = set()\n",
    "    for r in adjacency.rows[subzone]:\n",
    "        neighbors = neighbors | set(r)\n",
    "    \n",
    "    return [i for i in (neighbors - set(subzone)) if ind[i] == zid]"
   ]
  },
  {
   "cell_type": "code",
   "execution_count": 271,
   "metadata": {},
   "outputs": [
    {
     "name": "stdout",
     "output_type": "stream",
     "text": [
      "[]\n"
     ]
    }
   ],
   "source": [
    "sz = subzone_neighbors(sol, np.nonzero(sol == 3)[0], 3)\n",
    "print(sz)"
   ]
  },
  {
   "cell_type": "code",
   "execution_count": 231,
   "metadata": {},
   "outputs": [],
   "source": [
    "def edge_units(ind, src, dst):\n",
    "    # Set of all units found\n",
    "    units = set()\n",
    "    \n",
    "    src_zone = np.nonzero(ind == src)[0]\n",
    "    dst_zone = np.nonzero(ind == dst)[0]\n",
    "    \n",
    "    # For each unit u in the source zone...\n",
    "    for u in src_zone:\n",
    "        # For each unit v adjacent to u...\n",
    "        for v in adjacency.rows[u]:\n",
    "            # If v is in the destination zone...\n",
    "            if v in dst_zone:\n",
    "                # Then u is an edge unit\n",
    "                units = units | set([u])\n",
    "                # Don't need to look at any other units adaject to u if it's already confirmed an edge unit\n",
    "                break\n",
    "    return list(units)\n",
    "    "
   ]
  },
  {
   "cell_type": "code",
   "execution_count": 232,
   "metadata": {},
   "outputs": [
    {
     "name": "stdout",
     "output_type": "stream",
     "text": [
      "[0, 9]\n"
     ]
    }
   ],
   "source": [
    "print(edge_units(sol, 3, 2))"
   ]
  },
  {
   "cell_type": "markdown",
   "metadata": {},
   "source": [
    "### Check Contiguity\n",
    "\n",
    "Algorith 1 from PEAR. Given a solution (individual), and a group of blocks to move from one zone to another (subzone), make sure that removing those from their current zone doesn't break contiguity. "
   ]
  },
  {
   "cell_type": "code",
   "execution_count": 321,
   "metadata": {
    "collapsed": true
   },
   "outputs": [],
   "source": [
    "from collections import defaultdict\n",
    "def bfs(G, origin):\n",
    "    visited = defaultdict(lambda: False)\n",
    "    queue = []\n",
    "    connected = []\n",
    "    \n",
    "    queue.append(origin)\n",
    "    visited[origin] = True\n",
    "    \n",
    "    while queue:\n",
    "        s = queue.pop()\n",
    "        connected.append(s)\n",
    "        \n",
    "        for i in G[s]:\n",
    "            if visited[i] == False:\n",
    "                queue.append(i)\n",
    "                visited[i] = True\n",
    "                \n",
    "    return connected\n",
    "    "
   ]
  },
  {
   "cell_type": "code",
   "execution_count": 362,
   "metadata": {
    "collapsed": true
   },
   "outputs": [],
   "source": [
    "def contiguity_check(ind, subzone, src):\n",
    "    # If no subzones are being removed then contiguity is not affected\n",
    "    if len(subzone) == 0:\n",
    "        return True\n",
    "    # check that at least one unit of subzone is on a zone boundary\n",
    "    # (not really necessary because we control the generative process, guaranteeing this)\n",
    "    # V = {} - units that are neighbors of the subzone, and in the same zone as them.\n",
    "    neighbors = subzone_neighbors(ind, subzone, src)\n",
    "    \n",
    "    # G = {}; connectivity graph as adjacency list\n",
    "    G = {}\n",
    "    for u in neighbors:\n",
    "        G[u] = []\n",
    "        for v in adjacency.rows[u]:\n",
    "            if v in neighbors:\n",
    "                G[u].append(v)\n",
    "        \n",
    "    c = len(bfs(G, list(G.keys())[0]))\n",
    "    return c > 0 and c == len(neighbors)\n",
    "\n",
    "\n"
   ]
  },
  {
   "cell_type": "code",
   "execution_count": 363,
   "metadata": {},
   "outputs": [],
   "source": [
    "cc_ind = [2, 2, 1, 2, 2, 1, 3, 3, 1, 3, 3, 1]\n",
    "contiguity_check(cc_ind, [1, 3], 2)\n",
    "\n",
    "assert not contiguity_check(cc_ind, [0, 3], 2)\n",
    "assert not contiguity_check(cc_ind, [9], 3)\n",
    "assert contiguity_check(cc_ind, [11], 3)\n",
    "assert contiguity_check(cc_ind, [1, 3], 2)\n",
    "\n"
   ]
  },
  {
   "cell_type": "code",
   "execution_count": 356,
   "metadata": {},
   "outputs": [],
   "source": [
    "# Define externally, number (15) taken from PEAR\n",
    "max_mutation_units = 2\n",
    "\n",
    "# src and dst are adjacent zones\n",
    "def shift(ind, src, dst):\n",
    "    # Randomly select up to two adjacent units in src bordering on dst\n",
    "    # TODO: current code only selects one\n",
    "    eu = edge_units(ind, src, dst)\n",
    "    if len(eu) == 0:\n",
    "        return ind\n",
    "    \n",
    "    subzone = [np.random.choice(edge_units(ind, src, dst))]\n",
    "    \n",
    "    # while size of subzone < max mutation units\n",
    "    while len(subzone) < max_mutation_units:\n",
    "        # Get list of neighbor units (U) of subzone\n",
    "        neighbors = subzone_neighbors(ind, subzone, src)\n",
    "        if len(neighbors) > 0:\n",
    "            # Get random number q in 1:|U|\n",
    "            q = randint(1, len(neighbors))\n",
    "            # Randomly choose subset of U with |U'| = q\n",
    "            subset = np.random.choice(neighbors, q, replace=False )\n",
    "            # subzone = subzone union U'\n",
    "            subzone = list(set(subzone) | set(subset))\n",
    "            \n",
    "    if contiguity_check(ind, subzone, src):\n",
    "        # dst = dst union subzone\n",
    "        # src = src - subzone\n",
    "        # aka reassign subzone to dst id\n",
    "        for i in subzone:\n",
    "            ind[i] = dst\n",
    "        \n",
    "    return ind"
   ]
  },
  {
   "cell_type": "code",
   "execution_count": null,
   "metadata": {
    "collapsed": true
   },
   "outputs": [],
   "source": [
    "tmp_ind = np.array([2, 2, 1, 2, 2, 1, 3, 3, 1, 3, 3, 1])"
   ]
  },
  {
   "cell_type": "code",
   "execution_count": 360,
   "metadata": {},
   "outputs": [
    {
     "name": "stdout",
     "output_type": "stream",
     "text": [
      "[2 1 1 1 2 1 2 2 1 3 3 1]\n",
      "[2, 5]\n",
      "[8]\n",
      "[2 1 2 1 2 2 2 2 1 3 3 1]\n"
     ]
    }
   ],
   "source": [
    "#src = np.nonzero(sol == 3)[0]\n",
    "#dst = np.nonzero(sol == 2)[0]\n",
    "src = 1\n",
    "dst = 2\n",
    "tmp_ind = shift(tmp_ind, src, dst)\n",
    "print(tmp_ind)\n"
   ]
  },
  {
   "cell_type": "markdown",
   "metadata": {},
   "source": [
    "## Mutate\n",
    "\n",
    "\"Mutate makes a sequence of shifts to balance metrics such as population deviation. This sequence may have one or more cyclic shifts.\""
   ]
  },
  {
   "cell_type": "code",
   "execution_count": 81,
   "metadata": {},
   "outputs": [],
   "source": [
    "# Start with a current solution; using sol from above\n",
    "# Need a shuffled list of possible zones to shift\n",
    "# Paper recommends Fisher-Yates, which is what numpy uses\n",
    "zones = [i for i in range(1, k+1)]\n",
    "np.random.shuffle(zones)\n",
    "\n"
   ]
  },
  {
   "cell_type": "code",
   "execution_count": 98,
   "metadata": {},
   "outputs": [],
   "source": [
    "# NEED: the population information\n",
    "pop_threshold = 0.05\n",
    "total_pop = data[\"block_pop_total\"].sum()\n",
    "min_pop = floor(total_pop*(1-pop_threshold))\n",
    "max_pop = ceil(total_pop*(1+pop_threshold))"
   ]
  },
  {
   "cell_type": "code",
   "execution_count": null,
   "metadata": {},
   "outputs": [],
   "source": [
    "# for each z in zones\n",
    "#   if z is a source zone of previous shifts\n",
    "#     continue"
   ]
  },
  {
   "cell_type": "code",
   "execution_count": 127,
   "metadata": {},
   "outputs": [
    {
     "data": {
      "text/html": [
       "<div>\n",
       "<style>\n",
       "    .dataframe thead tr:only-child th {\n",
       "        text-align: right;\n",
       "    }\n",
       "\n",
       "    .dataframe thead th {\n",
       "        text-align: left;\n",
       "    }\n",
       "\n",
       "    .dataframe tbody tr th {\n",
       "        vertical-align: top;\n",
       "    }\n",
       "</style>\n",
       "<table border=\"1\" class=\"dataframe\">\n",
       "  <thead>\n",
       "    <tr style=\"text-align: right;\">\n",
       "      <th></th>\n",
       "      <th>Unnamed: 0</th>\n",
       "      <th>GEOID</th>\n",
       "      <th>area</th>\n",
       "      <th>perimeter</th>\n",
       "      <th>outer_edge</th>\n",
       "      <th>assignment</th>\n",
       "    </tr>\n",
       "  </thead>\n",
       "  <tbody>\n",
       "    <tr>\n",
       "      <th>0</th>\n",
       "      <td>4</td>\n",
       "      <td>53053073122</td>\n",
       "      <td>5.032197e+06</td>\n",
       "      <td>11813.664235</td>\n",
       "      <td>0.000000</td>\n",
       "      <td>1</td>\n",
       "    </tr>\n",
       "    <tr>\n",
       "      <th>1</th>\n",
       "      <td>53</td>\n",
       "      <td>53053073126</td>\n",
       "      <td>1.403617e+06</td>\n",
       "      <td>5014.567928</td>\n",
       "      <td>0.000000</td>\n",
       "      <td>1</td>\n",
       "    </tr>\n",
       "    <tr>\n",
       "      <th>2</th>\n",
       "      <td>551</td>\n",
       "      <td>53053071309</td>\n",
       "      <td>4.133641e+06</td>\n",
       "      <td>13086.810210</td>\n",
       "      <td>7367.835131</td>\n",
       "      <td>2</td>\n",
       "    </tr>\n",
       "    <tr>\n",
       "      <th>3</th>\n",
       "      <td>572</td>\n",
       "      <td>53053073121</td>\n",
       "      <td>2.848713e+06</td>\n",
       "      <td>7147.099962</td>\n",
       "      <td>0.000000</td>\n",
       "      <td>1</td>\n",
       "    </tr>\n",
       "    <tr>\n",
       "      <th>4</th>\n",
       "      <td>586</td>\n",
       "      <td>53053073120</td>\n",
       "      <td>3.316514e+06</td>\n",
       "      <td>9756.762195</td>\n",
       "      <td>0.000000</td>\n",
       "      <td>1</td>\n",
       "    </tr>\n",
       "    <tr>\n",
       "      <th>5</th>\n",
       "      <td>831</td>\n",
       "      <td>53053071304</td>\n",
       "      <td>5.373849e+06</td>\n",
       "      <td>11423.230843</td>\n",
       "      <td>5320.001284</td>\n",
       "      <td>2</td>\n",
       "    </tr>\n",
       "    <tr>\n",
       "      <th>6</th>\n",
       "      <td>832</td>\n",
       "      <td>53053071208</td>\n",
       "      <td>3.689688e+06</td>\n",
       "      <td>8980.737923</td>\n",
       "      <td>6201.710903</td>\n",
       "      <td>3</td>\n",
       "    </tr>\n",
       "    <tr>\n",
       "      <th>7</th>\n",
       "      <td>890</td>\n",
       "      <td>53053073111</td>\n",
       "      <td>3.732590e+06</td>\n",
       "      <td>9662.924189</td>\n",
       "      <td>2021.050246</td>\n",
       "      <td>3</td>\n",
       "    </tr>\n",
       "    <tr>\n",
       "      <th>8</th>\n",
       "      <td>892</td>\n",
       "      <td>53053073108</td>\n",
       "      <td>9.902125e+06</td>\n",
       "      <td>14729.911244</td>\n",
       "      <td>3405.502371</td>\n",
       "      <td>2</td>\n",
       "    </tr>\n",
       "    <tr>\n",
       "      <th>9</th>\n",
       "      <td>1160</td>\n",
       "      <td>53053073123</td>\n",
       "      <td>9.665775e+06</td>\n",
       "      <td>20030.644348</td>\n",
       "      <td>6273.267507</td>\n",
       "      <td>3</td>\n",
       "    </tr>\n",
       "    <tr>\n",
       "      <th>10</th>\n",
       "      <td>1284</td>\n",
       "      <td>53053073113</td>\n",
       "      <td>1.850135e+07</td>\n",
       "      <td>21778.963585</td>\n",
       "      <td>14188.834674</td>\n",
       "      <td>3</td>\n",
       "    </tr>\n",
       "    <tr>\n",
       "      <th>11</th>\n",
       "      <td>1312</td>\n",
       "      <td>53053073125</td>\n",
       "      <td>6.257557e+06</td>\n",
       "      <td>14414.711822</td>\n",
       "      <td>5496.654309</td>\n",
       "      <td>2</td>\n",
       "    </tr>\n",
       "  </tbody>\n",
       "</table>\n",
       "</div>"
      ],
      "text/plain": [
       "    Unnamed: 0        GEOID          area     perimeter    outer_edge  \\\n",
       "0            4  53053073122  5.032197e+06  11813.664235      0.000000   \n",
       "1           53  53053073126  1.403617e+06   5014.567928      0.000000   \n",
       "2          551  53053071309  4.133641e+06  13086.810210   7367.835131   \n",
       "3          572  53053073121  2.848713e+06   7147.099962      0.000000   \n",
       "4          586  53053073120  3.316514e+06   9756.762195      0.000000   \n",
       "5          831  53053071304  5.373849e+06  11423.230843   5320.001284   \n",
       "6          832  53053071208  3.689688e+06   8980.737923   6201.710903   \n",
       "7          890  53053073111  3.732590e+06   9662.924189   2021.050246   \n",
       "8          892  53053073108  9.902125e+06  14729.911244   3405.502371   \n",
       "9         1160  53053073123  9.665775e+06  20030.644348   6273.267507   \n",
       "10        1284  53053073113  1.850135e+07  21778.963585  14188.834674   \n",
       "11        1312  53053073125  6.257557e+06  14414.711822   5496.654309   \n",
       "\n",
       "    assignment  \n",
       "0            1  \n",
       "1            1  \n",
       "2            2  \n",
       "3            1  \n",
       "4            1  \n",
       "5            2  \n",
       "6            3  \n",
       "7            3  \n",
       "8            2  \n",
       "9            3  \n",
       "10           3  \n",
       "11           2  "
      ]
     },
     "execution_count": 127,
     "metadata": {},
     "output_type": "execute_result"
    }
   ],
   "source": [
    "data"
   ]
  },
  {
   "cell_type": "code",
   "execution_count": 238,
   "metadata": {},
   "outputs": [
    {
     "data": {
      "text/plain": [
       "3"
      ]
     },
     "execution_count": 238,
     "metadata": {},
     "output_type": "execute_result"
    }
   ],
   "source": [
    "solution[9]"
   ]
  },
  {
   "cell_type": "code",
   "execution_count": 257,
   "metadata": {},
   "outputs": [
    {
     "data": {
      "text/plain": [
       "array([3, 3, 2, 1, 2, 2, 2, 2, 1, 3, 3, 1], dtype=int32)"
      ]
     },
     "execution_count": 257,
     "metadata": {},
     "output_type": "execute_result"
    }
   ],
   "source": [
    "sol"
   ]
  },
  {
   "cell_type": "code",
   "execution_count": null,
   "metadata": {
    "collapsed": true
   },
   "outputs": [],
   "source": []
  }
 ],
 "metadata": {
  "kernelspec": {
   "display_name": "Python 3",
   "language": "python",
   "name": "python3"
  },
  "language_info": {
   "codemirror_mode": {
    "name": "ipython",
    "version": 3
   },
   "file_extension": ".py",
   "mimetype": "text/x-python",
   "name": "python",
   "nbconvert_exporter": "python",
   "pygments_lexer": "ipython3",
   "version": "3.6.2"
  }
 },
 "nbformat": 4,
 "nbformat_minor": 1
}
